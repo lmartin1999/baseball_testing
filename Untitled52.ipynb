{
  "nbformat": 4,
  "nbformat_minor": 0,
  "metadata": {
    "colab": {
      "provenance": [],
      "authorship_tag": "ABX9TyOzn1hQsAglz3bj14xDSOCG",
      "include_colab_link": true
    },
    "kernelspec": {
      "name": "python3",
      "display_name": "Python 3"
    },
    "language_info": {
      "name": "python"
    }
  },
  "cells": [
    {
      "cell_type": "markdown",
      "metadata": {
        "id": "view-in-github",
        "colab_type": "text"
      },
      "source": [
        "<a href=\"https://colab.research.google.com/github/lmartin1999/baseball_testing/blob/main/Untitled52.ipynb\" target=\"_parent\"><img src=\"https://colab.research.google.com/assets/colab-badge.svg\" alt=\"Open In Colab\"/></a>"
      ]
    },
    {
      "cell_type": "code",
      "execution_count": 6,
      "metadata": {
        "colab": {
          "base_uri": "https://localhost:8080/"
        },
        "id": "ebvNHszN55XN",
        "outputId": "cc968a32-32df-4325-ec9b-34f1aba20dfe"
      },
      "outputs": [
        {
          "output_type": "stream",
          "name": "stdout",
          "text": [
            "America: 7.30%\n",
            "Bleu: 1.70%\n",
            "Bowie: 75.80%\n",
            "Cam: 19.60%\n",
            "Cirie: 8.20%\n",
            "Cory: 31.90%\n",
            "Felicia: 0.90%\n",
            "Izzy: 1.90%\n",
            "Jag: 4.30%\n",
            "Jared: 11.80%\n",
            "Matt: 16.20%\n",
            "Mecole: 51.20%\n",
            "Red: 69.20%\n"
          ]
        }
      ],
      "source": [
        "import pandas as pd\n",
        "import random\n",
        "\n",
        "\n",
        "data=pd.read_excel(\"fixed2.xlsx\")\n",
        "def play_hoh_competition(data, previous_hoh=None):\n",
        "    eligible_players = data[data['Name'] != previous_hoh].reset_index(drop=True)\n",
        "    total_weights = sum(eligible_players['Comp'])\n",
        "    weights = [comp_rating/total_weights for comp_rating in eligible_players['Comp']]\n",
        "    hoh = random.choices(eligible_players['Name'], weights)[0]\n",
        "    return hoh\n",
        "\n",
        "def nominate_with_checks(data, hoh):\n",
        "    hoh_alliance = data.loc[data['Name'] == hoh, 'Alliance'].values[0]\n",
        "    opposing_team = 2 if hoh_alliance == 1 else 1\n",
        "    if opposing_team not in data['Alliance'].values:\n",
        "        top_opposing_nominees = data.sort_values(by='Target', ascending=False).head(2)['Name'].tolist()\n",
        "        return top_opposing_nominees\n",
        "    opposing_team_members = data[data['Alliance'] == opposing_team].sort_values(by='Target', ascending=False)\n",
        "    top_opposing_nominees = opposing_team_members.head(2)['Name'].tolist()\n",
        "    if len(top_opposing_nominees) < 2:\n",
        "        if 3 in data['Alliance'].values:\n",
        "            deadman_nominee = data[data['Alliance'] == 3].sort_values(by='Target', ascending=False).head(1)['Name'].values[0]\n",
        "            top_opposing_nominees.append(deadman_nominee)\n",
        "        else:\n",
        "            additional_nominee = data[~data['Name'].isin(top_opposing_nominees)].sort_values(by='Target', ascending=False).head(1)['Name'].values[0]\n",
        "            top_opposing_nominees.append(additional_nominee)\n",
        "    return top_opposing_nominees\n",
        "\n",
        "def play_veto_competition_with_checks(data, hoh, nominees):\n",
        "    players = [hoh] + nominees\n",
        "    remaining_spots = 6 - len(players)\n",
        "    if remaining_spots > 0:\n",
        "        remaining_players = data[~data['Name'].isin(players)]['Name'].tolist()\n",
        "        additional_players = random.sample(remaining_players, min(remaining_spots, len(remaining_players)))\n",
        "        players += additional_players\n",
        "    weights = [data[data['Name'] == player]['Comp'].values[0] for player in players]\n",
        "    total_weight = sum(weights)\n",
        "    normalized_weights = [weight/total_weight for weight in weights]\n",
        "    veto_winner = random.choices(players, normalized_weights)[0]\n",
        "    return veto_winner\n",
        "\n",
        "def decide_veto_use(data, hoh, veto_winner, nominees):\n",
        "    if veto_winner in nominees:\n",
        "        return [player for player in nominees if player != veto_winner] + [hoh]\n",
        "    hoh_alliance = data.loc[data['Name'] == hoh, 'Alliance'].values[0]\n",
        "    opposing_team = 2 if hoh_alliance == 1 else 1\n",
        "    opposing_team_count = len(data[data['Alliance'] == opposing_team])\n",
        "    if len(data[data['Alliance'] == hoh_alliance]) > opposing_team_count:\n",
        "        potential_backdoor_targets = data[(data['Alliance'] == hoh_alliance) & (data['Name'] != hoh)]\n",
        "        if not potential_backdoor_targets.empty:\n",
        "            sorted_targets = potential_backdoor_targets.sort_values(by=['Target', 'Comp'], ascending=[False, False])\n",
        "            backdoor_target = sorted_targets.head(1)['Name'].values[0]\n",
        "            if backdoor_target not in nominees:\n",
        "                return [nominees[0], backdoor_target]\n",
        "    return nominees\n",
        "\n",
        "def vote_to_evict(data, nominees):\n",
        "    votes = {}\n",
        "    for nominee in nominees:\n",
        "        votes[nominee] = 0\n",
        "    for player in data['Name']:\n",
        "        if player not in nominees:\n",
        "            chosen_nominee = random.choice(nominees)\n",
        "            votes[chosen_nominee] += 1\n",
        "    sorted_votes = sorted(votes.items(), key=lambda x: x[1], reverse=True)\n",
        "    evicted = sorted_votes[0][0]\n",
        "    return evicted\n",
        "\n",
        "def run_final_three_simulations(data, number_of_simulations=1000):\n",
        "    final_three_players = {name: 0 for name in data['Name']}\n",
        "    for _ in range(number_of_simulations):\n",
        "        simulation_data = data.copy()\n",
        "        previous_hoh = None\n",
        "        while len(simulation_data) > 3:\n",
        "            hoh = play_hoh_competition(simulation_data, previous_hoh)\n",
        "            nominees = nominate_with_checks(simulation_data, hoh)\n",
        "            veto_winner = play_veto_competition_with_checks(simulation_data, hoh, nominees)\n",
        "            final_nominees = decide_veto_use(simulation_data, hoh, veto_winner, nominees)\n",
        "            evicted_player = vote_to_evict(simulation_data, final_nominees)\n",
        "            simulation_data = simulation_data[simulation_data['Name'] != evicted_player].reset_index(drop=True)\n",
        "            previous_hoh = hoh\n",
        "        for player in simulation_data['Name']:\n",
        "            final_three_players[player] += 1\n",
        "    for player, count in final_three_players.items():\n",
        "        final_three_players[player] = (count / number_of_simulations) * 100\n",
        "    return final_three_players\n",
        "\n",
        "# ---------------------- ADD THE BELOW LINES HERE ---------------------- #\n",
        "\n",
        "# This will run the simulation and store the results in final_three_results\n",
        "final_three_results = run_final_three_simulations(data)\n",
        "\n",
        "# This will print out the results\n",
        "for player, percentage in final_three_results.items():\n",
        "    print(f\"{player}: {percentage:.2f}%\")\n"
      ]
    }
  ]
}