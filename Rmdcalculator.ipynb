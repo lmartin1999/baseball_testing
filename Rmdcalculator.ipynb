{
  "nbformat": 4,
  "nbformat_minor": 0,
  "metadata": {
    "colab": {
      "provenance": [],
      "authorship_tag": "ABX9TyPbwmNssh1OxIiWpIpb1aU3",
      "include_colab_link": true
    },
    "kernelspec": {
      "name": "python3",
      "display_name": "Python 3"
    },
    "language_info": {
      "name": "python"
    }
  },
  "cells": [
    {
      "cell_type": "markdown",
      "metadata": {
        "id": "view-in-github",
        "colab_type": "text"
      },
      "source": [
        "<a href=\"https://colab.research.google.com/github/lmartin1999/baseball_testing/blob/main/Rmdcalculator.ipynb\" target=\"_parent\"><img src=\"https://colab.research.google.com/assets/colab-badge.svg\" alt=\"Open In Colab\"/></a>"
      ]
    },
    {
      "cell_type": "code",
      "execution_count": 2,
      "metadata": {
        "colab": {
          "base_uri": "https://localhost:8080/"
        },
        "id": "uuSUpwUhqag_",
        "outputId": "110c57c6-ba83-41f7-cf11-c3a770948498"
      },
      "outputs": [
        {
          "output_type": "stream",
          "name": "stdout",
          "text": [
            "The RMD for age 72 and balance $100000 is $3910.00\n"
          ]
        }
      ],
      "source": [
        "import pandas as pd\n",
        "def calculate_rmd(age, balance, rmd_table):\n",
        "    # Check if the age is in the table\n",
        "    if age in rmd_table['Age'].values:\n",
        "        # Get the RMD percentage for the given age\n",
        "        rmd_percentage = rmd_table.loc[rmd_table['Age'] == age, 'RMD %'].values[0]\n",
        "        # Calculate the distribution amount\n",
        "        distribution = balance * rmd_percentage\n",
        "        return distribution\n",
        "    else:\n",
        "        return \"Age not in RMD table.\"\n",
        "\n",
        "# Example usage:\n",
        "example_age = 72\n",
        "example_balance = 100000  # Example account balance\n",
        "rmd_table = pd.read_excel('rmd.xlsx', sheet_name='Sheet2')  # Load the RMD data\n",
        "\n",
        "distribution = calculate_rmd(example_age, example_balance, rmd_table)\n",
        "print(f\"The RMD for age {example_age} and balance ${example_balance} is ${distribution:.2f}\")\n"
      ]
    }
  ]
}