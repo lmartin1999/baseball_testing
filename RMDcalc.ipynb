{
  "nbformat": 4,
  "nbformat_minor": 0,
  "metadata": {
    "colab": {
      "provenance": [],
      "authorship_tag": "ABX9TyO8t9xX/A3pYwQ1wc25yXih",
      "include_colab_link": true
    },
    "kernelspec": {
      "name": "python3",
      "display_name": "Python 3"
    },
    "language_info": {
      "name": "python"
    }
  },
  "cells": [
    {
      "cell_type": "markdown",
      "metadata": {
        "id": "view-in-github",
        "colab_type": "text"
      },
      "source": [
        "<a href=\"https://colab.research.google.com/github/lmartin1999/baseball_testing/blob/main/RMDcalc.ipynb\" target=\"_parent\"><img src=\"https://colab.research.google.com/assets/colab-badge.svg\" alt=\"Open In Colab\"/></a>"
      ]
    },
    {
      "cell_type": "code",
      "execution_count": null,
      "metadata": {
        "colab": {
          "base_uri": "https://localhost:8080/"
        },
        "id": "uuSUpwUhqag_",
        "outputId": "8ee48726-7c6a-4fec-8ed0-ace46c96bc57"
      },
      "outputs": [
        {
          "output_type": "stream",
          "name": "stdout",
          "text": [
            "The RMD for age 72 and balance $100000 is $3910.00\n"
          ]
        }
      ],
      "source": [
        "\n",
        "rmd_full_data_list = [{'Age': 70, 'RLA': 27.4, 'RMD %': 3.65 / 100},\n",
        "    {'Age': 71, 'RLA': 26.5, 'RMD %': 3.78 / 100},\n",
        "    {'Age': 72, 'RLA': 25.6, 'RMD %': 3.91 / 100},\n",
        "    {'Age': 73, 'RLA': 24.7, 'RMD %': 4.05 / 100},\n",
        "    {'Age': 74, 'RLA': 23.8, 'RMD %': 4.21 / 100},\n",
        "    {'Age': 75, 'RLA': 22.9, 'RMD %': 4.37 / 100},\n",
        "    {'Age': 76, 'RLA': 22.0, 'RMD %': 4.55 / 100},\n",
        "    {'Age': 77, 'RLA': 21.2, 'RMD %': 4.72 / 100},\n",
        "    {'Age': 78, 'RLA': 20.3, 'RMD %': 4.93 / 100},\n",
        "    {'Age': 79, 'RLA': 19.5, 'RMD %': 5.13 / 100},\n",
        "    {'Age': 80, 'RLA': 18.7, 'RMD %': 5.35 / 100},\n",
        "    {'Age': 81, 'RLA': 17.9, 'RMD %': 5.59 / 100},\n",
        "    {'Age': 82, 'RLA': 17.1, 'RMD %': 5.85 / 100},\n",
        "    {'Age': 83, 'RLA': 16.3, 'RMD %': 6.14 / 100},\n",
        "    {'Age': 84, 'RLA': 15.5, 'RMD %': 6.45 / 100},\n",
        "    {'Age': 85, 'RLA': 14.8, 'RMD %': 6.76 / 100},\n",
        "    {'Age': 86, 'RLA': 14.1, 'RMD %': 7.10 / 100},\n",
        "    {'Age': 87, 'RLA': 13.4, 'RMD %': 7.47 / 100},\n",
        "    {'Age': 88, 'RLA': 12.7, 'RMD %': 7.88 / 100},\n",
        "    {'Age': 89, 'RLA': 12.0, 'RMD %': 8.33 / 100},\n",
        "    {'Age': 90, 'RLA': 11.4, 'RMD %': 8.78 / 100},\n",
        "    {'Age': 91, 'RLA': 10.8, 'RMD %': 9.26 / 100},\n",
        "    {'Age': 92, 'RLA': 10.2, 'RMD %': 9.81 / 100},\n",
        "    {'Age': 93, 'RLA': 9.6, 'RMD %': 10.42 / 100},\n",
        "    {'Age': 94, 'RLA': 9.1, 'RMD %': 10.99 / 100},\n",
        "    {'Age': 95, 'RLA': 8.9, 'RMD %': 11.63 / 100}]\n",
        "\n",
        "def calculate_rmd_from_list(age, balance, rmd_data):\n",
        "    rmd_info = next((item for item in rmd_data if item['Age'] == age), None)\n",
        "    if rmd_info is None:\n",
        "        return \"Age not in RMD table.\"\n",
        "    distribution = balance * rmd_info['RMD %']\n",
        "    return distribution\n",
        "\n",
        "# Example usage:\n",
        "example_age = 72\n",
        "example_balance = 100000  # Example account balance\n",
        "distribution = calculate_rmd_from_list(example_age, example_balance, rmd_full_data_list)\n",
        "print(f\"The RMD for age {example_age} and balance ${example_balance} is ${distribution:.2f}\")"
      ]
    }
  ]
}